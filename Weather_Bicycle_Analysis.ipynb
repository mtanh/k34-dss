{
 "cells": [
  {
   "cell_type": "code",
   "execution_count": 1,
   "id": "48a33fe9",
   "metadata": {},
   "outputs": [],
   "source": [
    "import pandas as pd"
   ]
  },
  {
   "cell_type": "code",
   "execution_count": 2,
   "id": "0a373c96",
   "metadata": {},
   "outputs": [],
   "source": [
    "df_fact = pd.read_csv('Fact_TrafficViolation.csv')\n",
    "df_dim_date = pd.read_csv('Dim_Date.csv')\n",
    "df_external = pd.read_csv('External_Bicycle.csv')"
   ]
  },
  {
   "cell_type": "code",
   "execution_count": 3,
   "id": "a1ab63e5",
   "metadata": {},
   "outputs": [],
   "source": [
    "df_dim_date['ViolationDate'] = pd.to_datetime(df_dim_date['Date']).dt.date\n",
    "\n",
    "df_fact_dated = pd.merge(\n",
    "    df_fact,\n",
    "    df_dim_date[['DateKey', 'ViolationDate']],\n",
    "    on='DateKey',\n",
    "    how='left'\n",
    ")"
   ]
  },
  {
   "cell_type": "code",
   "execution_count": 4,
   "id": "8fad9020",
   "metadata": {},
   "outputs": [],
   "source": [
    "df_external['starttime_dt'] = pd.to_datetime(df_external['starttime'])\n",
    "df_external['BicycleDate'] = df_external['starttime_dt'].dt.date\n",
    "\n",
    "df_external['Customer_Flag'] = (df_external['usertype'] == 'Customer').astype(int)\n",
    "df_external['Subscriber_Flag'] = (df_external['usertype'] == 'Subscriber').astype(int)\n",
    "\n",
    "df_external['Male_Flag'] = (df_external['gender'] == 'Male').astype(int)\n",
    "df_external['Female_Flag'] = (df_external['gender'] == 'Female').astype(int)\n",
    "\n",
    "# Group by date and calculate all required aggregations\n",
    "df_bicycle_agg = df_external.groupby('BicycleDate').agg(\n",
    "    UserType_Customer_Count=('Customer_Flag', 'sum'),\n",
    "    UserType_Subscriber_Count=('Subscriber_Flag', 'sum'),\n",
    "    Gender_Male_Count=('Male_Flag', 'sum'),\n",
    "    Gender_Female_Count=('Female_Flag', 'sum'),\n",
    "    # Sum of trip duration by date\n",
    "    TotalTripDuration=('tripduration', 'sum')\n",
    ").reset_index()"
   ]
  },
  {
   "cell_type": "code",
   "execution_count": 5,
   "id": "6195f78e",
   "metadata": {},
   "outputs": [],
   "source": [
    "df_integrated_final = pd.merge(\n",
    "    df_fact_dated,\n",
    "    df_bicycle_agg,\n",
    "    left_on='ViolationDate',\n",
    "    right_on='BicycleDate',\n",
    "    how='left'\n",
    ")\n",
    "\n",
    "count_cols = [\n",
    "    'UserType_Customer_Count',\n",
    "    'UserType_Subscriber_Count',\n",
    "    'Gender_Male_Count',\n",
    "    'Gender_Female_Count',\n",
    "    'TotalTripDuration'\n",
    "]"
   ]
  },
  {
   "cell_type": "code",
   "execution_count": 6,
   "id": "731d75a0",
   "metadata": {},
   "outputs": [
    {
     "name": "stdout",
     "output_type": "stream",
     "text": [
      "        DateKey  WeatherKey  AddressKey  RedLightViolations  \\\n",
      "572         116         116         122                  31   \n",
      "2956        116         116         297                   0   \n",
      "3192        116         116         160                   1   \n",
      "3633        116         116         333                   0   \n",
      "5956        116         116         263                   1   \n",
      "...         ...         ...         ...                 ...   \n",
      "322300      116         116         352                   0   \n",
      "323069      116         116         150                  10   \n",
      "324497      116         116          96                   1   \n",
      "324671      116         116         202                  12   \n",
      "324690      116         116         281                   4   \n",
      "\n",
      "        SpeedingViolations  TotalViolations                CreateTimeStamp  \\\n",
      "572                      0               31  2025-06-27 21:18:40.430000000   \n",
      "2956                     4                4  2025-06-27 21:18:40.430000000   \n",
      "3192                     0                1  2025-06-27 21:18:40.430000000   \n",
      "3633                    10               10  2025-06-27 21:18:40.430000000   \n",
      "5956                     0                1  2025-06-27 21:18:40.430000000   \n",
      "...                    ...              ...                            ...   \n",
      "322300                  63               63  2025-06-27 21:18:40.317000000   \n",
      "323069                   0               10  2025-06-27 21:18:40.317000000   \n",
      "324497                   0                1  2025-06-27 21:18:40.430000000   \n",
      "324671                   0               12  2025-06-27 21:18:40.430000000   \n",
      "324690                   0                4  2025-06-27 21:18:40.430000000   \n",
      "\n",
      "        SourceSystemCode SourceFolder ViolationDate BicycleDate  \\\n",
      "572                    2   2017-09-30    2014-10-24         NaN   \n",
      "2956                   3   2017-09-30    2014-10-24         NaN   \n",
      "3192                   2   2017-09-30    2014-10-24         NaN   \n",
      "3633                   3   2017-09-30    2014-10-24         NaN   \n",
      "5956                   2   2017-09-30    2014-10-24         NaN   \n",
      "...                  ...          ...           ...         ...   \n",
      "322300                 3   2017-09-30    2014-10-24         NaN   \n",
      "323069                 2   2017-09-30    2014-10-24         NaN   \n",
      "324497                 2   2017-09-30    2014-10-24         NaN   \n",
      "324671                 2   2017-09-30    2014-10-24         NaN   \n",
      "324690                 2   2017-09-30    2014-10-24         NaN   \n",
      "\n",
      "        UserType_Customer_Count  UserType_Subscriber_Count  Gender_Male_Count  \\\n",
      "572                         NaN                        NaN                NaN   \n",
      "2956                        NaN                        NaN                NaN   \n",
      "3192                        NaN                        NaN                NaN   \n",
      "3633                        NaN                        NaN                NaN   \n",
      "5956                        NaN                        NaN                NaN   \n",
      "...                         ...                        ...                ...   \n",
      "322300                      NaN                        NaN                NaN   \n",
      "323069                      NaN                        NaN                NaN   \n",
      "324497                      NaN                        NaN                NaN   \n",
      "324671                      NaN                        NaN                NaN   \n",
      "324690                      NaN                        NaN                NaN   \n",
      "\n",
      "        Gender_Female_Count  TotalTripDuration  \n",
      "572                     NaN                NaN  \n",
      "2956                    NaN                NaN  \n",
      "3192                    NaN                NaN  \n",
      "3633                    NaN                NaN  \n",
      "5956                    NaN                NaN  \n",
      "...                     ...                ...  \n",
      "322300                  NaN                NaN  \n",
      "323069                  NaN                NaN  \n",
      "324497                  NaN                NaN  \n",
      "324671                  NaN                NaN  \n",
      "324690                  NaN                NaN  \n",
      "\n",
      "[296 rows x 16 columns]\n"
     ]
    }
   ],
   "source": [
    "# Replace NaN values (where no bicycle data exists) with 0\n",
    "na_records = df_integrated_final[df_integrated_final[count_cols].isna().any(axis=1)]\n",
    "print(na_records)"
   ]
  },
  {
   "cell_type": "code",
   "execution_count": 7,
   "id": "712c1ca1",
   "metadata": {},
   "outputs": [],
   "source": [
    "columns_to_keep = list(df_fact.columns) + count_cols\n",
    "df_final_output = df_integrated_final[columns_to_keep].copy()\n",
    "\n",
    "output_filename = 'Integrated_Weather_Bicycle.csv'\n",
    "df_final_output.to_csv(output_filename, index=False)"
   ]
  },
  {
   "cell_type": "code",
   "execution_count": 23,
   "id": "1d609ca9",
   "metadata": {},
   "outputs": [
    {
     "data": {
      "text/plain": [
       "DateKey                      0\n",
       "WeatherKey                   0\n",
       "AddressKey                   0\n",
       "RedLightViolations           0\n",
       "SpeedingViolations           0\n",
       "TotalViolations              0\n",
       "CreateTimeStamp              0\n",
       "SourceSystemCode             0\n",
       "SourceFolder                 0\n",
       "UserType_Customer_Count      0\n",
       "UserType_Subscriber_Count    0\n",
       "Gender_Male_Count            0\n",
       "Gender_Female_Count          0\n",
       "TotalTripDuration            0\n",
       "dtype: int64"
      ]
     },
     "execution_count": 23,
     "metadata": {},
     "output_type": "execute_result"
    }
   ],
   "source": [
    "df_integrated = pd.read_csv('Integrated_Weather_Bicycle.csv')\n",
    "df_integrated[pd.to_datetime(df_integrated['SourceFolder']).dt.year == 2016].count()"
   ]
  }
 ],
 "metadata": {
  "kernelspec": {
   "display_name": "venv",
   "language": "python",
   "name": "python3"
  },
  "language_info": {
   "codemirror_mode": {
    "name": "ipython",
    "version": 3
   },
   "file_extension": ".py",
   "mimetype": "text/x-python",
   "name": "python",
   "nbconvert_exporter": "python",
   "pygments_lexer": "ipython3",
   "version": "3.9.13"
  }
 },
 "nbformat": 4,
 "nbformat_minor": 5
}

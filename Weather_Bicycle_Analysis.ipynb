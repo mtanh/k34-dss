{
 "cells": [
  {
   "cell_type": "code",
   "execution_count": 25,
   "id": "48a33fe9",
   "metadata": {},
   "outputs": [],
   "source": [
    "import pandas as pd"
   ]
  },
  {
   "cell_type": "code",
   "execution_count": 26,
   "id": "0a373c96",
   "metadata": {},
   "outputs": [],
   "source": [
    "df_fact = pd.read_csv('Fact_TrafficViolation.csv')\n",
    "df_dim_date = pd.read_csv('Dim_Date.csv')\n",
    "df_external = pd.read_csv('External_Bicycle.csv')"
   ]
  },
  {
   "cell_type": "code",
   "execution_count": 27,
   "id": "a1ab63e5",
   "metadata": {},
   "outputs": [],
   "source": [
    "df_dim_date['ViolationDate'] = pd.to_datetime(df_dim_date['Date']).dt.date\n",
    "\n",
    "df_fact_dated = pd.merge(\n",
    "    df_fact,\n",
    "    df_dim_date[['DateKey', 'ViolationDate']],\n",
    "    on='DateKey',\n",
    "    how='left'\n",
    ")"
   ]
  },
  {
   "cell_type": "code",
   "execution_count": 30,
   "id": "8fad9020",
   "metadata": {},
   "outputs": [],
   "source": [
    "df_external['starttime_dt'] = pd.to_datetime(df_external['starttime'])\n",
    "df_external['BicycleDate'] = df_external['starttime_dt'].dt.date\n",
    "\n",
    "df_external['Customer_Flag'] = (df_external['usertype'] == 'Customer').astype(int)\n",
    "df_external['Subscriber_Flag'] = (df_external['usertype'] == 'Subscriber').astype(int)\n",
    "\n",
    "df_external['Male_Flag'] = (df_external['gender'] == 'Male').astype(int)\n",
    "df_external['Female_Flag'] = (df_external['gender'] == 'Female').astype(int)\n",
    "\n",
    "# Group by date and calculate all required aggregations\n",
    "df_bicycle_agg = df_external.groupby('BicycleDate').agg(\n",
    "    UserType_Customer_Count=('Customer_Flag', 'sum'),\n",
    "    UserType_Subscriber_Count=('Subscriber_Flag', 'sum'),\n",
    "    Gender_Male_Count=('Male_Flag', 'sum'),\n",
    "    Gender_Female_Count=('Female_Flag', 'sum'),\n",
    "    # Sum of trip duration by date\n",
    "    TotalTripDuration=('tripduration', 'sum')\n",
    ").reset_index()"
   ]
  },
  {
   "cell_type": "code",
   "execution_count": 31,
   "id": "6195f78e",
   "metadata": {},
   "outputs": [],
   "source": [
    "df_integrated_final = pd.merge(\n",
    "    df_fact_dated,\n",
    "    df_bicycle_agg,\n",
    "    left_on='ViolationDate',\n",
    "    right_on='BicycleDate',\n",
    "    how='left'\n",
    ")\n",
    "\n",
    "count_cols = [\n",
    "    'UserType_Customer_Count',\n",
    "    'UserType_Subscriber_Count',\n",
    "    'Gender_Male_Count',\n",
    "    'Gender_Female_Count',\n",
    "    'TotalTripDuration'\n",
    "]"
   ]
  },
  {
   "cell_type": "code",
   "execution_count": 32,
   "id": "731d75a0",
   "metadata": {},
   "outputs": [],
   "source": [
    "# Replace NaN values (where no bicycle data exists) with 0\n",
    "df_integrated_final[count_cols] = df_integrated_final[count_cols].fillna(0)"
   ]
  },
  {
   "cell_type": "code",
   "execution_count": 33,
   "id": "425733d4",
   "metadata": {},
   "outputs": [
    {
     "data": {
      "text/html": [
       "<div>\n",
       "<style scoped>\n",
       "    .dataframe tbody tr th:only-of-type {\n",
       "        vertical-align: middle;\n",
       "    }\n",
       "\n",
       "    .dataframe tbody tr th {\n",
       "        vertical-align: top;\n",
       "    }\n",
       "\n",
       "    .dataframe thead th {\n",
       "        text-align: right;\n",
       "    }\n",
       "</style>\n",
       "<table border=\"1\" class=\"dataframe\">\n",
       "  <thead>\n",
       "    <tr style=\"text-align: right;\">\n",
       "      <th></th>\n",
       "      <th>DateKey</th>\n",
       "      <th>WeatherKey</th>\n",
       "      <th>AddressKey</th>\n",
       "      <th>RedLightViolations</th>\n",
       "      <th>SpeedingViolations</th>\n",
       "      <th>TotalViolations</th>\n",
       "      <th>CreateTimeStamp</th>\n",
       "      <th>SourceSystemCode</th>\n",
       "      <th>SourceFolder</th>\n",
       "      <th>ViolationDate</th>\n",
       "      <th>BicycleDate</th>\n",
       "      <th>UserType_Customer_Count</th>\n",
       "      <th>UserType_Subscriber_Count</th>\n",
       "      <th>Gender_Male_Count</th>\n",
       "      <th>Gender_Female_Count</th>\n",
       "      <th>TotalTripDuration</th>\n",
       "    </tr>\n",
       "  </thead>\n",
       "  <tbody>\n",
       "    <tr>\n",
       "      <th>0</th>\n",
       "      <td>795</td>\n",
       "      <td>795</td>\n",
       "      <td>241</td>\n",
       "      <td>15</td>\n",
       "      <td>0</td>\n",
       "      <td>15</td>\n",
       "      <td>2025-06-27 21:18:40.430000000</td>\n",
       "      <td>2</td>\n",
       "      <td>2017-09-30</td>\n",
       "      <td>2016-09-02</td>\n",
       "      <td>2016-09-02</td>\n",
       "      <td>7.0</td>\n",
       "      <td>12086.0</td>\n",
       "      <td>8987.0</td>\n",
       "      <td>3106.0</td>\n",
       "      <td>144573.516667</td>\n",
       "    </tr>\n",
       "  </tbody>\n",
       "</table>\n",
       "</div>"
      ],
      "text/plain": [
       "   DateKey  WeatherKey  AddressKey  RedLightViolations  SpeedingViolations  \\\n",
       "0      795         795         241                  15                   0   \n",
       "\n",
       "   TotalViolations                CreateTimeStamp  SourceSystemCode  \\\n",
       "0               15  2025-06-27 21:18:40.430000000                 2   \n",
       "\n",
       "  SourceFolder ViolationDate BicycleDate  UserType_Customer_Count  \\\n",
       "0   2017-09-30    2016-09-02  2016-09-02                      7.0   \n",
       "\n",
       "   UserType_Subscriber_Count  Gender_Male_Count  Gender_Female_Count  \\\n",
       "0                    12086.0             8987.0               3106.0   \n",
       "\n",
       "   TotalTripDuration  \n",
       "0      144573.516667  "
      ]
     },
     "execution_count": 33,
     "metadata": {},
     "output_type": "execute_result"
    }
   ],
   "source": [
    "df_integrated_final.head(1)"
   ]
  }
 ],
 "metadata": {
  "kernelspec": {
   "display_name": "venv",
   "language": "python",
   "name": "python3"
  },
  "language_info": {
   "codemirror_mode": {
    "name": "ipython",
    "version": 3
   },
   "file_extension": ".py",
   "mimetype": "text/x-python",
   "name": "python",
   "nbconvert_exporter": "python",
   "pygments_lexer": "ipython3",
   "version": "3.9.13"
  }
 },
 "nbformat": 4,
 "nbformat_minor": 5
}
